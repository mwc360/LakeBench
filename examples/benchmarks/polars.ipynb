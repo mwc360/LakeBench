{
 "cells": [
  {
   "cell_type": "code",
   "execution_count": null,
   "id": "76e04182",
   "metadata": {},
   "outputs": [],
   "source": [
    "%pip install lakebench[polars]"
   ]
  },
  {
   "cell_type": "markdown",
   "id": "24c7f205",
   "metadata": {},
   "source": [
    "## Run ELTBench in `light` mode"
   ]
  },
  {
   "cell_type": "code",
   "execution_count": null,
   "id": "feb7d1b3",
   "metadata": {},
   "outputs": [],
   "source": [
    "from lakebench.engines import Polars\n",
    "from lakebench.benchmarks import ELTBench\n",
    "\n",
    "engine = Polars(\n",
    "    delta_abfss_schema_path = 'abfss://.........../Tables/polars_eltbench_test'\n",
    ")\n",
    "\n",
    "benchmark = ELTBench(\n",
    "    engine=engine,\n",
    "    scenario_name=\"SF1\",\n",
    "    tpcds_parquet_abfss_path='abfss://........./Files/tpcds_sf1',\n",
    "    save_results=True,\n",
    "    result_abfss_path='abfss://......../Tables/lakebench/results'\n",
    "    )\n",
    "benchmark.run(mode=\"light\")"
   ]
  },
  {
   "cell_type": "markdown",
   "id": "6d1ab723",
   "metadata": {},
   "source": [
    "## Run TPCDS `power_test` (Load tables and run all queries)"
   ]
  },
  {
   "cell_type": "code",
   "execution_count": null,
   "id": "feaf7122",
   "metadata": {},
   "outputs": [],
   "source": [
    "from lakebench.engines import Polars\n",
    "from lakebench.benchmarks import TPCDS\n",
    "\n",
    "engine = Polars(\n",
    "    delta_abfss_schema_path = 'abfss://.........../Tables/polars_tpcds_sf1'\n",
    ")\n",
    "\n",
    "benchmark = TPCDS(\n",
    "    engine=engine,\n",
    "    scenario_name=\"SF1 - Power Test\",\n",
    "    parquet_abfss_path='abfss://........./Files/tpcds_sf1',\n",
    "    save_results=True,\n",
    "    result_abfss_path='abfss://......../Tables/dbo/results'\n",
    "    )\n",
    "benchmark.run(mode=\"power_test\")"
   ]
  },
  {
   "cell_type": "markdown",
   "id": "88ac860b",
   "metadata": {},
   "source": [
    "## Run TPCDS `query` test: q1 run 4 times"
   ]
  },
  {
   "cell_type": "code",
   "execution_count": null,
   "id": "cae6db9b",
   "metadata": {},
   "outputs": [],
   "source": [
    "from lakebench.engines import Polars\n",
    "from lakebench.benchmarks import TPCDS\n",
    "\n",
    "engine = Polars(\n",
    "    delta_abfss_schema_path = 'abfss://.........../Tables/polars_tpcds_sf1'\n",
    ")\n",
    "\n",
    "benchmark = TPCDS(\n",
    "    engine=engine,\n",
    "    scenario_name=\"SF1 - Q4*4\",\n",
    "    parquet_abfss_path='abfss://........./Files/tpcds/sf1_parquet',\n",
    "    save_results=True,\n",
    "    result_abfss_path='abfss://......../Tables/dbo/results',\n",
    "    query_list=['q1'] * 4\n",
    "    )\n",
    "benchmark.run(mode=\"query\")"
   ]
  },
  {
   "cell_type": "markdown",
   "id": "52a01f5b",
   "metadata": {},
   "source": [
    "## Run TPCH Query Test (Run all queries)"
   ]
  },
  {
   "cell_type": "code",
   "execution_count": null,
   "id": "0768e9b8",
   "metadata": {},
   "outputs": [],
   "source": [
    "from lakebench.engines import Polars\n",
    "from lakebench.benchmarks import TPCH\n",
    "\n",
    "engine = Polars(\n",
    "    delta_abfss_schema_path = 'abfss://.........../Tables/polars_tpch_sf10'\n",
    ")\n",
    "\n",
    "benchmark = TPCH(\n",
    "    engine=engine,\n",
    "    scenario_name=\"SF10 - All Queries\",\n",
    "    parquet_abfss_path='abfss://........./Files/tpcds/sf10_parquet',\n",
    "    save_results=True,\n",
    "    result_abfss_path='abfss://......../Tables/dbo/results'\n",
    "    )\n",
    "benchmark.run(mode=\"query\")"
   ]
  }
 ],
 "metadata": {
  "language_info": {
   "name": "python"
  }
 },
 "nbformat": 4,
 "nbformat_minor": 5
}
