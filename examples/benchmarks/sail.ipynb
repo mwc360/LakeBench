{
 "cells": [
  {
   "cell_type": "code",
   "execution_count": null,
   "id": "14bb639e",
   "metadata": {},
   "outputs": [],
   "source": [
    "%pip install lakebench[sail]"
   ]
  },
  {
   "cell_type": "code",
   "execution_count": null,
   "id": "a5b1a488",
   "metadata": {},
   "outputs": [],
   "source": [
    "# Microsoft Fabric specific: restart Python kernel after package upgrade\n",
    "notebookutils.session.restartPython()"
   ]
  },
  {
   "cell_type": "markdown",
   "id": "a8d0e739",
   "metadata": {},
   "source": [
    "## Run TPCDS `power_test` (Load tables and run all queries)"
   ]
  },
  {
   "cell_type": "code",
   "execution_count": null,
   "id": "eeca5cba",
   "metadata": {},
   "outputs": [],
   "source": [
    "from lakebench.engines import Sail\n",
    "from lakebench.benchmarks import TPCDS\n",
    "\n",
    "engine = Sail(\n",
    "    delta_abfss_schema_path = \"abfss://.........../Tables/sail_tpcds_sf1\"\n",
    ")\n",
    "\n",
    "benchmark = TPCDS(\n",
    "    engine=engine,\n",
    "    scenario_name=\"SF1 - Power Test\",\n",
    "    parquet_abfss_path=\"abfss://........./Files/tpcds/sf1_parquet\",\n",
    "    save_results=True,\n",
    "    result_abfss_path=\"abfss://........./Files/results\",\n",
    ")\n",
    "benchmark.run(mode=\"power_test\")"
   ]
  }
 ],
 "metadata": {
  "language_info": {
   "name": "python"
  }
 },
 "nbformat": 4,
 "nbformat_minor": 5
}
