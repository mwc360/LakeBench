{
 "cells": [
  {
   "cell_type": "code",
   "execution_count": null,
   "id": "68b6e2e6",
   "metadata": {},
   "outputs": [],
   "source": [
    "%pip install lakebench[tpcds_datagen,tpch_datagen]"
   ]
  },
  {
   "cell_type": "markdown",
   "id": "cdb67587",
   "metadata": {},
   "source": [
    "## Generate TPCDS Parquet files at scale factor 1"
   ]
  },
  {
   "cell_type": "code",
   "execution_count": null,
   "id": "c88df1f4",
   "metadata": {},
   "outputs": [],
   "source": [
    "from lakebench.datagen import TPCDSDataGenerator\n",
    "\n",
    "datagen = TPCDSDataGenerator(\n",
    "    scale_factor=1,\n",
    "    target_folder_path='/lakehouse/default/Files/tpcds_sf1'\n",
    ")\n",
    "datagen.run()"
   ]
  },
  {
   "cell_type": "markdown",
   "id": "04892cbf",
   "metadata": {},
   "source": [
    "## Generate TPCH Parquet files locally at scale factor 0.1"
   ]
  },
  {
   "cell_type": "code",
   "execution_count": null,
   "id": "d97dc4eb",
   "metadata": {},
   "outputs": [],
   "source": [
    "from lakebench.datagen import TPCHDataGenerator\n",
    "\n",
    "datagen = TPCHDataGenerator(\n",
    "    scale_factor=0.1,\n",
    "    target_folder_path=r'C:\\lakebench_local_tests\\data\\source\\tpch\\sf1_parquet'\n",
    ")\n",
    "datagen.run()"
   ]
  }
 ],
 "metadata": {
  "language_info": {
   "name": "python"
  }
 },
 "nbformat": 4,
 "nbformat_minor": 5
}
